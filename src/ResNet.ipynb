{
  "cells": [
    {
      "cell_type": "code",
      "execution_count": 22,
      "metadata": {
        "id": "ca6usUFIJgnF"
      },
      "outputs": [],
      "source": [
        "from __future__ import print_function, division\n",
        "\n",
        "import numpy as np\n",
        "import os\n",
        "import pickle\n",
        "\n",
        "import torch\n",
        "import torch.nn as nn\n",
        "import torch.optim as optim\n",
        "from torch.optim import lr_scheduler\n",
        "import numpy as np\n",
        "import torchvision\n",
        "from torchvision import datasets, models, transforms\n",
        "\n",
        "import sklearn.model_selection as model_selection"
      ]
    },
    {
      "cell_type": "code",
      "execution_count": 23,
      "metadata": {
        "id": "ZfAzpIbYJgnI"
      },
      "outputs": [],
      "source": [
        "# Import data set\n",
        "spectrogram_list = []\n",
        "with open('nparr_spec_image.pickle','rb') as modelFile:\n",
        "     spectrogram_list = pickle.load(modelFile)"
      ]
    },
    {
      "cell_type": "code",
      "execution_count": 24,
      "metadata": {
        "colab": {
          "base_uri": "https://localhost:8080/"
        },
        "id": "AjXAg2UrJgnJ",
        "outputId": "9094d932-000f-4484-e508-24a12a14dccf"
      },
      "outputs": [
        {
          "output_type": "stream",
          "name": "stdout",
          "text": [
            "(303, 722)\n"
          ]
        }
      ],
      "source": [
        "print(spectrogram_list[0][0].shape)"
      ]
    },
    {
      "cell_type": "code",
      "execution_count": 25,
      "metadata": {
        "colab": {
          "base_uri": "https://localhost:8080/"
        },
        "id": "PSjNN46cJgnK",
        "outputId": "83c095bf-9a0d-4347-e3e8-d181a1090537"
      },
      "outputs": [
        {
          "output_type": "stream",
          "name": "stdout",
          "text": [
            "[[166 176 176 ... 241 241 241]\n",
            " [165 175 175 ... 255 255 255]\n",
            " [165 175 175 ... 255 255 255]\n",
            " ...\n",
            " [238 252 252 ... 255 255 255]\n",
            " [237 251 251 ... 255 255 255]\n",
            " [237 251 251 ... 255 255 255]]\n"
          ]
        }
      ],
      "source": [
        "print(np.matrix(spectrogram_list[0][0]))"
      ]
    },
    {
      "cell_type": "markdown",
      "metadata": {
        "id": "KloBZ-zsJgnL"
      },
      "source": [
        "# Import Model"
      ]
    },
    {
      "cell_type": "code",
      "execution_count": 35,
      "metadata": {
        "id": "PsYT2j65JgnN"
      },
      "outputs": [],
      "source": [
        "# Initialize ResNet model with initial weights\n",
        "tf_model = models.resnet18(weights = models.ResNet18_Weights.DEFAULT)"
      ]
    },
    {
      "cell_type": "code",
      "execution_count": 36,
      "metadata": {
        "colab": {
          "base_uri": "https://localhost:8080/"
        },
        "id": "ziEJW5FrJgnN",
        "outputId": "28668195-4322-4e5c-d00c-00b58dd422fa"
      },
      "outputs": [
        {
          "output_type": "stream",
          "name": "stdout",
          "text": [
            "ResNet(\n",
            "  (conv1): Conv2d(3, 64, kernel_size=(7, 7), stride=(2, 2), padding=(3, 3), bias=False)\n",
            "  (bn1): BatchNorm2d(64, eps=1e-05, momentum=0.1, affine=True, track_running_stats=True)\n",
            "  (relu): ReLU(inplace=True)\n",
            "  (maxpool): MaxPool2d(kernel_size=3, stride=2, padding=1, dilation=1, ceil_mode=False)\n",
            "  (layer1): Sequential(\n",
            "    (0): BasicBlock(\n",
            "      (conv1): Conv2d(64, 64, kernel_size=(3, 3), stride=(1, 1), padding=(1, 1), bias=False)\n",
            "      (bn1): BatchNorm2d(64, eps=1e-05, momentum=0.1, affine=True, track_running_stats=True)\n",
            "      (relu): ReLU(inplace=True)\n",
            "      (conv2): Conv2d(64, 64, kernel_size=(3, 3), stride=(1, 1), padding=(1, 1), bias=False)\n",
            "      (bn2): BatchNorm2d(64, eps=1e-05, momentum=0.1, affine=True, track_running_stats=True)\n",
            "    )\n",
            "    (1): BasicBlock(\n",
            "      (conv1): Conv2d(64, 64, kernel_size=(3, 3), stride=(1, 1), padding=(1, 1), bias=False)\n",
            "      (bn1): BatchNorm2d(64, eps=1e-05, momentum=0.1, affine=True, track_running_stats=True)\n",
            "      (relu): ReLU(inplace=True)\n",
            "      (conv2): Conv2d(64, 64, kernel_size=(3, 3), stride=(1, 1), padding=(1, 1), bias=False)\n",
            "      (bn2): BatchNorm2d(64, eps=1e-05, momentum=0.1, affine=True, track_running_stats=True)\n",
            "    )\n",
            "  )\n",
            "  (layer2): Sequential(\n",
            "    (0): BasicBlock(\n",
            "      (conv1): Conv2d(64, 128, kernel_size=(3, 3), stride=(2, 2), padding=(1, 1), bias=False)\n",
            "      (bn1): BatchNorm2d(128, eps=1e-05, momentum=0.1, affine=True, track_running_stats=True)\n",
            "      (relu): ReLU(inplace=True)\n",
            "      (conv2): Conv2d(128, 128, kernel_size=(3, 3), stride=(1, 1), padding=(1, 1), bias=False)\n",
            "      (bn2): BatchNorm2d(128, eps=1e-05, momentum=0.1, affine=True, track_running_stats=True)\n",
            "      (downsample): Sequential(\n",
            "        (0): Conv2d(64, 128, kernel_size=(1, 1), stride=(2, 2), bias=False)\n",
            "        (1): BatchNorm2d(128, eps=1e-05, momentum=0.1, affine=True, track_running_stats=True)\n",
            "      )\n",
            "    )\n",
            "    (1): BasicBlock(\n",
            "      (conv1): Conv2d(128, 128, kernel_size=(3, 3), stride=(1, 1), padding=(1, 1), bias=False)\n",
            "      (bn1): BatchNorm2d(128, eps=1e-05, momentum=0.1, affine=True, track_running_stats=True)\n",
            "      (relu): ReLU(inplace=True)\n",
            "      (conv2): Conv2d(128, 128, kernel_size=(3, 3), stride=(1, 1), padding=(1, 1), bias=False)\n",
            "      (bn2): BatchNorm2d(128, eps=1e-05, momentum=0.1, affine=True, track_running_stats=True)\n",
            "    )\n",
            "  )\n",
            "  (layer3): Sequential(\n",
            "    (0): BasicBlock(\n",
            "      (conv1): Conv2d(128, 256, kernel_size=(3, 3), stride=(2, 2), padding=(1, 1), bias=False)\n",
            "      (bn1): BatchNorm2d(256, eps=1e-05, momentum=0.1, affine=True, track_running_stats=True)\n",
            "      (relu): ReLU(inplace=True)\n",
            "      (conv2): Conv2d(256, 256, kernel_size=(3, 3), stride=(1, 1), padding=(1, 1), bias=False)\n",
            "      (bn2): BatchNorm2d(256, eps=1e-05, momentum=0.1, affine=True, track_running_stats=True)\n",
            "      (downsample): Sequential(\n",
            "        (0): Conv2d(128, 256, kernel_size=(1, 1), stride=(2, 2), bias=False)\n",
            "        (1): BatchNorm2d(256, eps=1e-05, momentum=0.1, affine=True, track_running_stats=True)\n",
            "      )\n",
            "    )\n",
            "    (1): BasicBlock(\n",
            "      (conv1): Conv2d(256, 256, kernel_size=(3, 3), stride=(1, 1), padding=(1, 1), bias=False)\n",
            "      (bn1): BatchNorm2d(256, eps=1e-05, momentum=0.1, affine=True, track_running_stats=True)\n",
            "      (relu): ReLU(inplace=True)\n",
            "      (conv2): Conv2d(256, 256, kernel_size=(3, 3), stride=(1, 1), padding=(1, 1), bias=False)\n",
            "      (bn2): BatchNorm2d(256, eps=1e-05, momentum=0.1, affine=True, track_running_stats=True)\n",
            "    )\n",
            "  )\n",
            "  (layer4): Sequential(\n",
            "    (0): BasicBlock(\n",
            "      (conv1): Conv2d(256, 512, kernel_size=(3, 3), stride=(2, 2), padding=(1, 1), bias=False)\n",
            "      (bn1): BatchNorm2d(512, eps=1e-05, momentum=0.1, affine=True, track_running_stats=True)\n",
            "      (relu): ReLU(inplace=True)\n",
            "      (conv2): Conv2d(512, 512, kernel_size=(3, 3), stride=(1, 1), padding=(1, 1), bias=False)\n",
            "      (bn2): BatchNorm2d(512, eps=1e-05, momentum=0.1, affine=True, track_running_stats=True)\n",
            "      (downsample): Sequential(\n",
            "        (0): Conv2d(256, 512, kernel_size=(1, 1), stride=(2, 2), bias=False)\n",
            "        (1): BatchNorm2d(512, eps=1e-05, momentum=0.1, affine=True, track_running_stats=True)\n",
            "      )\n",
            "    )\n",
            "    (1): BasicBlock(\n",
            "      (conv1): Conv2d(512, 512, kernel_size=(3, 3), stride=(1, 1), padding=(1, 1), bias=False)\n",
            "      (bn1): BatchNorm2d(512, eps=1e-05, momentum=0.1, affine=True, track_running_stats=True)\n",
            "      (relu): ReLU(inplace=True)\n",
            "      (conv2): Conv2d(512, 512, kernel_size=(3, 3), stride=(1, 1), padding=(1, 1), bias=False)\n",
            "      (bn2): BatchNorm2d(512, eps=1e-05, momentum=0.1, affine=True, track_running_stats=True)\n",
            "    )\n",
            "  )\n",
            "  (avgpool): AdaptiveAvgPool2d(output_size=(1, 1))\n",
            "  (fc): Linear(in_features=512, out_features=1000, bias=True)\n",
            ")\n"
          ]
        }
      ],
      "source": [
        "print(tf_model)"
      ]
    },
    {
      "cell_type": "markdown",
      "metadata": {
        "id": "6-fDn2eKJgnO"
      },
      "source": [
        "Modify initial and last layers to allow model to adapt to our inputs/outputs."
      ]
    },
    {
      "cell_type": "code",
      "execution_count": 37,
      "metadata": {
        "colab": {
          "base_uri": "https://localhost:8080/"
        },
        "id": "O1ymm9onJgnP",
        "outputId": "11706351-5c0b-43c7-9f01-75ff65051ba4"
      },
      "outputs": [
        {
          "output_type": "stream",
          "name": "stdout",
          "text": [
            "<bound method Module.named_modules of ResNet(\n",
            "  (conv1): Sequential(\n",
            "    (0): Conv2d(1, 3, kernel_size=(9, 9), stride=(4, 4), padding=(3, 3))\n",
            "    (1): BatchNorm2d(3, eps=1e-05, momentum=0.1, affine=True, track_running_stats=True)\n",
            "    (2): ReLU(inplace=True)\n",
            "    (3): Conv2d(3, 64, kernel_size=(7, 7), stride=(2, 2), padding=(3, 3), bias=False)\n",
            "  )\n",
            "  (bn1): BatchNorm2d(64, eps=1e-05, momentum=0.1, affine=True, track_running_stats=True)\n",
            "  (relu): ReLU(inplace=True)\n",
            "  (maxpool): MaxPool2d(kernel_size=3, stride=2, padding=1, dilation=1, ceil_mode=False)\n",
            "  (layer1): Sequential(\n",
            "    (0): BasicBlock(\n",
            "      (conv1): Conv2d(64, 64, kernel_size=(3, 3), stride=(1, 1), padding=(1, 1), bias=False)\n",
            "      (bn1): BatchNorm2d(64, eps=1e-05, momentum=0.1, affine=True, track_running_stats=True)\n",
            "      (relu): ReLU(inplace=True)\n",
            "      (conv2): Conv2d(64, 64, kernel_size=(3, 3), stride=(1, 1), padding=(1, 1), bias=False)\n",
            "      (bn2): BatchNorm2d(64, eps=1e-05, momentum=0.1, affine=True, track_running_stats=True)\n",
            "    )\n",
            "    (1): BasicBlock(\n",
            "      (conv1): Conv2d(64, 64, kernel_size=(3, 3), stride=(1, 1), padding=(1, 1), bias=False)\n",
            "      (bn1): BatchNorm2d(64, eps=1e-05, momentum=0.1, affine=True, track_running_stats=True)\n",
            "      (relu): ReLU(inplace=True)\n",
            "      (conv2): Conv2d(64, 64, kernel_size=(3, 3), stride=(1, 1), padding=(1, 1), bias=False)\n",
            "      (bn2): BatchNorm2d(64, eps=1e-05, momentum=0.1, affine=True, track_running_stats=True)\n",
            "    )\n",
            "  )\n",
            "  (layer2): Sequential(\n",
            "    (0): BasicBlock(\n",
            "      (conv1): Conv2d(64, 128, kernel_size=(3, 3), stride=(2, 2), padding=(1, 1), bias=False)\n",
            "      (bn1): BatchNorm2d(128, eps=1e-05, momentum=0.1, affine=True, track_running_stats=True)\n",
            "      (relu): ReLU(inplace=True)\n",
            "      (conv2): Conv2d(128, 128, kernel_size=(3, 3), stride=(1, 1), padding=(1, 1), bias=False)\n",
            "      (bn2): BatchNorm2d(128, eps=1e-05, momentum=0.1, affine=True, track_running_stats=True)\n",
            "      (downsample): Sequential(\n",
            "        (0): Conv2d(64, 128, kernel_size=(1, 1), stride=(2, 2), bias=False)\n",
            "        (1): BatchNorm2d(128, eps=1e-05, momentum=0.1, affine=True, track_running_stats=True)\n",
            "      )\n",
            "    )\n",
            "    (1): BasicBlock(\n",
            "      (conv1): Conv2d(128, 128, kernel_size=(3, 3), stride=(1, 1), padding=(1, 1), bias=False)\n",
            "      (bn1): BatchNorm2d(128, eps=1e-05, momentum=0.1, affine=True, track_running_stats=True)\n",
            "      (relu): ReLU(inplace=True)\n",
            "      (conv2): Conv2d(128, 128, kernel_size=(3, 3), stride=(1, 1), padding=(1, 1), bias=False)\n",
            "      (bn2): BatchNorm2d(128, eps=1e-05, momentum=0.1, affine=True, track_running_stats=True)\n",
            "    )\n",
            "  )\n",
            "  (layer3): Sequential(\n",
            "    (0): BasicBlock(\n",
            "      (conv1): Conv2d(128, 256, kernel_size=(3, 3), stride=(2, 2), padding=(1, 1), bias=False)\n",
            "      (bn1): BatchNorm2d(256, eps=1e-05, momentum=0.1, affine=True, track_running_stats=True)\n",
            "      (relu): ReLU(inplace=True)\n",
            "      (conv2): Conv2d(256, 256, kernel_size=(3, 3), stride=(1, 1), padding=(1, 1), bias=False)\n",
            "      (bn2): BatchNorm2d(256, eps=1e-05, momentum=0.1, affine=True, track_running_stats=True)\n",
            "      (downsample): Sequential(\n",
            "        (0): Conv2d(128, 256, kernel_size=(1, 1), stride=(2, 2), bias=False)\n",
            "        (1): BatchNorm2d(256, eps=1e-05, momentum=0.1, affine=True, track_running_stats=True)\n",
            "      )\n",
            "    )\n",
            "    (1): BasicBlock(\n",
            "      (conv1): Conv2d(256, 256, kernel_size=(3, 3), stride=(1, 1), padding=(1, 1), bias=False)\n",
            "      (bn1): BatchNorm2d(256, eps=1e-05, momentum=0.1, affine=True, track_running_stats=True)\n",
            "      (relu): ReLU(inplace=True)\n",
            "      (conv2): Conv2d(256, 256, kernel_size=(3, 3), stride=(1, 1), padding=(1, 1), bias=False)\n",
            "      (bn2): BatchNorm2d(256, eps=1e-05, momentum=0.1, affine=True, track_running_stats=True)\n",
            "    )\n",
            "  )\n",
            "  (layer4): Sequential(\n",
            "    (0): BasicBlock(\n",
            "      (conv1): Conv2d(256, 512, kernel_size=(3, 3), stride=(2, 2), padding=(1, 1), bias=False)\n",
            "      (bn1): BatchNorm2d(512, eps=1e-05, momentum=0.1, affine=True, track_running_stats=True)\n",
            "      (relu): ReLU(inplace=True)\n",
            "      (conv2): Conv2d(512, 512, kernel_size=(3, 3), stride=(1, 1), padding=(1, 1), bias=False)\n",
            "      (bn2): BatchNorm2d(512, eps=1e-05, momentum=0.1, affine=True, track_running_stats=True)\n",
            "      (downsample): Sequential(\n",
            "        (0): Conv2d(256, 512, kernel_size=(1, 1), stride=(2, 2), bias=False)\n",
            "        (1): BatchNorm2d(512, eps=1e-05, momentum=0.1, affine=True, track_running_stats=True)\n",
            "      )\n",
            "    )\n",
            "    (1): BasicBlock(\n",
            "      (conv1): Conv2d(512, 512, kernel_size=(3, 3), stride=(1, 1), padding=(1, 1), bias=False)\n",
            "      (bn1): BatchNorm2d(512, eps=1e-05, momentum=0.1, affine=True, track_running_stats=True)\n",
            "      (relu): ReLU(inplace=True)\n",
            "      (conv2): Conv2d(512, 512, kernel_size=(3, 3), stride=(1, 1), padding=(1, 1), bias=False)\n",
            "      (bn2): BatchNorm2d(512, eps=1e-05, momentum=0.1, affine=True, track_running_stats=True)\n",
            "    )\n",
            "  )\n",
            "  (avgpool): AdaptiveAvgPool2d(output_size=(1, 1))\n",
            "  (fc): Linear(in_features=512, out_features=10, bias=True)\n",
            ")>\n"
          ]
        }
      ],
      "source": [
        "# Get last layer and reset last linear layer\n",
        "last_name, last_layer = list(tf_model.named_modules())[-1]\n",
        "tf_model.fc = nn.Linear(in_features=512, out_features=10, bias=True)\n",
        "\n",
        "# Prepend initial layers\n",
        "tf_model.conv1 = nn.Sequential(\n",
        "    nn.Conv2d(1, 3, kernel_size= (9,9), stride=(4,4), padding=(3,3)),\n",
        "    nn.BatchNorm2d(3, eps=1e-05, momentum=0.1, affine=True, track_running_stats=True),\n",
        "    nn.ReLU(inplace=True),\n",
        "    tf_model.conv1\n",
        ")\n",
        "print(tf_model.named_modules)"
      ]
    },
    {
      "cell_type": "markdown",
      "metadata": {
        "id": "SNpEGEZ7JgnP"
      },
      "source": [
        "# Create Dataloaders"
      ]
    },
    {
      "cell_type": "code",
      "execution_count": 38,
      "metadata": {
        "id": "60B4F6sUJgnQ"
      },
      "outputs": [],
      "source": [
        "classes = ['bird', 'cat', 'chicken', 'cow', 'dog', 'donkey', 'frog', 'lion', 'monkey', 'sheep']\n",
        "import operator\n",
        "batch_size = 2\n",
        "\n",
        "# Used from Google Gemini\n",
        "from torch.utils.data import Dataset\n",
        "class DAN_Dataset(Dataset):\n",
        "    def __init__(self, data, labels, transform=None):\n",
        "        self.data = torch.tensor(data)\n",
        "        self.labels = torch.tensor(labels)\n",
        "        self.transform = transform\n",
        "\n",
        "    def __len__(self):\n",
        "        return len(self.data)\n",
        "\n",
        "    def __getitem__(self, idx):\n",
        "        return self.data[idx], self.labels[idx]\n",
        "\n",
        "\n",
        "def fetch_dataloader(data, batch_size, train_transform=None, val_transform=None):\n",
        "    '''\n",
        "    Inputs:\n",
        "    :param data: Data to load into DataLoaders.\n",
        "    :param batch_size: Batch size for DataLoaders.\n",
        "    :param train_transform: Transforms to apply to train Dataset\n",
        "    :param val_transform: Transforms to apply to validation Dataset\n",
        "    '''\n",
        "    # https://www.geeksforgeeks.org/python-get-first-element-in-list-of-tuples/\n",
        "    images = list(map(operator.itemgetter(0), spectrogram_list))\n",
        "    images = np.array(images).astype(np.float32)\n",
        "    # Grab lowercase labels and convert to integers\n",
        "    labels = list(map(operator.itemgetter(1), spectrogram_list))\n",
        "    labels = list(map(lambda x: x.lower(), labels))\n",
        "    labels = list(map(lambda x: classes.index(x), labels))\n",
        "\n",
        "    # Split into train and validation sets.\n",
        "    x_train, x_val, y_train, y_val  = model_selection.train_test_split(images, labels, train_size=0.8, shuffle=True)\n",
        "    # Convert to Dataset\n",
        "    train_data = DAN_Dataset(x_train, y_train, train_transform)\n",
        "    val_data = DAN_Dataset(x_val, y_val, val_transform)\n",
        "\n",
        "    # Separate every 10th value\n",
        "    train_loader = torch.utils.data.DataLoader(train_data, batch_size=batch_size, shuffle=True, num_workers=2)\n",
        "    val_loader = torch.utils.data.DataLoader(val_data, batch_size=batch_size, shuffle=True, num_workers=2)\n",
        "    return train_loader, val_loader\n",
        "\n",
        "\n",
        "train_transform = transforms.Compose(\n",
        "    [transforms.ToTensor(),\n",
        "     transforms.ConvertImageDtype(torch.float32),\n",
        "     transforms.Normalize((0.5, 0.5, 0.5), (0.5, 0.5, 0.5))])\n",
        "\n",
        "val_transform = transforms.Compose(\n",
        "    [transforms.ToTensor(),\n",
        "     transforms.ConvertImageDtype(torch.float32),\n",
        "     transforms.Normalize((0.5, 0.5, 0.5), (0.5, 0.5, 0.5))])"
      ]
    },
    {
      "cell_type": "code",
      "execution_count": 39,
      "metadata": {
        "id": "aTOvlfbdJgnQ"
      },
      "outputs": [],
      "source": [
        "train, val = fetch_dataloader(spectrogram_list, batch_size, train_transform, val_transform)"
      ]
    },
    {
      "cell_type": "markdown",
      "metadata": {
        "id": "wAM5VXLeJgnR"
      },
      "source": [
        "# Training"
      ]
    },
    {
      "cell_type": "code",
      "execution_count": null,
      "metadata": {
        "id": "pUXShCUSJgnR"
      },
      "outputs": [],
      "source": [
        "device = torch.device('cuda' if torch.cuda.is_available() else 'cpu')\n",
        "\n",
        "tf_model.to(device)\n",
        "tf_model.train()\n",
        "\n",
        "# Set the loss function and optimizer\n",
        "loss_function = nn.CrossEntropyLoss()\n",
        "optimizer = torch.optim.SGD(tf_model.parameters(), lr=0.001, momentum=0.9)\n",
        "device = torch.device('cuda' if torch.cuda.is_available() else 'cpu')"
      ]
    },
    {
      "cell_type": "code",
      "source": [
        "import librosa\n",
        "import librosa.display\n",
        "import matplotlib.pyplot as plt\n",
        "import numpy as np\n",
        "from IPython.display import Audio\n",
        "#import sounddevice as sd\n",
        "import os\n",
        "import pickle\n",
        "\n",
        "from __future__ import print_function, division\n",
        "\n",
        "import torch\n",
        "import torch.nn as nn\n",
        "import torch.optim as optim\n",
        "from torch.optim import lr_scheduler\n",
        "import numpy as np\n",
        "import torchvision\n",
        "from torchvision import datasets, models, transforms\n",
        "import time\n",
        "import os\n",
        "import copy\n",
        "import requests\n",
        "#from bing_image_downloader import downloader\n",
        "import matplotlib.pyplot as plt\n",
        "import matplotlib.image as mpimg\n",
        "import math\n",
        "import random\n",
        "import shutil\n",
        "\n",
        "plt.ion()   # interactive mode\n",
        "\n"
      ],
      "metadata": {
        "colab": {
          "base_uri": "https://localhost:8080/"
        },
        "id": "Qv9cP3ILOAkp",
        "outputId": "ed08c702-53ee-4b80-e968-017898701471"
      },
      "execution_count": null,
      "outputs": [
        {
          "output_type": "execute_result",
          "data": {
            "text/plain": [
              "<contextlib.ExitStack at 0x7ba07bf68820>"
            ]
          },
          "metadata": {},
          "execution_count": 11
        }
      ]
    },
    {
      "cell_type": "code",
      "execution_count": null,
      "metadata": {
        "colab": {
          "base_uri": "https://localhost:8080/",
          "height": 501
        },
        "id": "eeM4VrGXJgnR",
        "outputId": "15672b25-200c-4b59-e9a1-630518d6aacc"
      },
      "outputs": [
        {
          "output_type": "stream",
          "name": "stdout",
          "text": [
            "Finished Training\n"
          ]
        },
        {
          "output_type": "execute_result",
          "data": {
            "text/plain": [
              "<matplotlib.legend.Legend at 0x7ba07f2c8be0>"
            ]
          },
          "metadata": {},
          "execution_count": 12
        },
        {
          "output_type": "display_data",
          "data": {
            "text/plain": [
              "<Figure size 1200x500 with 1 Axes>"
            ],
            "image/png": "[encoded data removed]"
          },
          "metadata": {}
        }
      ],
      "source": [
        "train_losses = []\n",
        "num_epochs = 10\n",
        "for epoch in range(num_epochs):  # loop over the dataset multiple times\n",
        "\n",
        "    running_loss = 0.0\n",
        "    for i, data in enumerate(train, 0):\n",
        "        # get the inputs; data is a list of [inputs, labels]\n",
        "        inputs, labels = data\n",
        "        inputs = torch.reshape(inputs, (4, 1, 303, 722))\n",
        "        inputs = inputs.to(device)\n",
        "        labels = labels.to(device)\n",
        "\n",
        "        # zero the parameter gradients\n",
        "        optimizer.zero_grad()\n",
        "\n",
        "        # forward + backward + optimize\n",
        "        outputs = tf_model(inputs)\n",
        "        loss = loss_function(outputs, labels)\n",
        "        loss.backward()\n",
        "        optimizer.step()\n",
        "\n",
        "        # print statistics\n",
        "        running_loss += loss.item()\n",
        "\n",
        "        if i % 1000 == 999:    # print every 1000 mini-batches\n",
        "            print('[%d, %5d] loss: %.3f' %\n",
        "                  (epoch + 1, i + 1, running_loss / 1000))\n",
        "            running_loss = 0.0\n",
        "    train_losses.append(running_loss/len(train))\n",
        "\n",
        "print('Finished Training')\n",
        "\n",
        "plt.figure(figsize=(12, 5))\n",
        "plt.subplot(1, 2, 1)\n",
        "plt.plot(range(1, num_epochs+1), train_losses, label='Training Loss')\n",
        "plt.xlabel('Epochs')\n",
        "plt.ylabel('Loss')\n",
        "plt.legend()"
      ]
    },
    {
      "cell_type": "markdown",
      "metadata": {
        "id": "QzcZ4ewEJgnS"
      },
      "source": [
        "# Evaluate Model"
      ]
    },
    {
      "cell_type": "code",
      "execution_count": null,
      "metadata": {
        "colab": {
          "base_uri": "https://localhost:8080/"
        },
        "id": "qTR1cD5GJgnS",
        "outputId": "d894fe80-31c1-4133-d065-aaa03f9bf180"
      },
      "outputs": [
        {
          "output_type": "stream",
          "name": "stdout",
          "text": [
            "Requirement already satisfied: torchmetrics in /usr/local/lib/python3.10/dist-packages (1.6.0)\n",
            "Requirement already satisfied: numpy>1.20.0 in /usr/local/lib/python3.10/dist-packages (from torchmetrics) (1.26.4)\n",
            "Requirement already satisfied: packaging>17.1 in /usr/local/lib/python3.10/dist-packages (from torchmetrics) (24.2)\n",
            "Requirement already satisfied: torch>=2.0.0 in /usr/local/lib/python3.10/dist-packages (from torchmetrics) (2.5.1+cu121)\n",
            "Requirement already satisfied: lightning-utilities>=0.8.0 in /usr/local/lib/python3.10/dist-packages (from torchmetrics) (0.11.9)\n",
            "Requirement already satisfied: setuptools in /usr/local/lib/python3.10/dist-packages (from lightning-utilities>=0.8.0->torchmetrics) (75.1.0)\n",
            "Requirement already satisfied: typing-extensions in /usr/local/lib/python3.10/dist-packages (from lightning-utilities>=0.8.0->torchmetrics) (4.12.2)\n",
            "Requirement already satisfied: filelock in /usr/local/lib/python3.10/dist-packages (from torch>=2.0.0->torchmetrics) (3.16.1)\n",
            "Requirement already satisfied: networkx in /usr/local/lib/python3.10/dist-packages (from torch>=2.0.0->torchmetrics) (3.4.2)\n",
            "Requirement already satisfied: jinja2 in /usr/local/lib/python3.10/dist-packages (from torch>=2.0.0->torchmetrics) (3.1.4)\n",
            "Requirement already satisfied: fsspec in /usr/local/lib/python3.10/dist-packages (from torch>=2.0.0->torchmetrics) (2024.10.0)\n",
            "Requirement already satisfied: sympy==1.13.1 in /usr/local/lib/python3.10/dist-packages (from torch>=2.0.0->torchmetrics) (1.13.1)\n",
            "Requirement already satisfied: mpmath<1.4,>=1.1.0 in /usr/local/lib/python3.10/dist-packages (from sympy==1.13.1->torch>=2.0.0->torchmetrics) (1.3.0)\n",
            "Requirement already satisfied: MarkupSafe>=2.0 in /usr/local/lib/python3.10/dist-packages (from jinja2->torch>=2.0.0->torchmetrics) (3.0.2)\n"
          ]
        }
      ],
      "source": [
        "# Gemini generated code with google search: \"pytorch evaluate accuracy of model\"\n",
        "!pip install torchmetrics\n",
        "from torchmetrics import Accuracy\n",
        "criterion = nn.CrossEntropyLoss()\n",
        "\n",
        "def evaluate_model(model, data_val, classes, device):\n",
        "    num_epochs = 10\n",
        "    test_losses = []\n",
        "\n",
        "    test_accuracies = []\n",
        "\n",
        "\n",
        "    for epoch in range(num_epochs):\n",
        "      model.eval()\n",
        "      predictions = []\n",
        "      accuracy = Accuracy(task='multiclass', num_classes=classes).to(device)\n",
        "      with torch.no_grad():\n",
        "          running_loss = 0.0\n",
        "          running_corrects = 0\n",
        "          for i, data in enumerate(data_val, 0):\n",
        "              # get the inputs; data is a list of [inputs, labels]\n",
        "              try:\n",
        "                  inputs, labels = data\n",
        "                  inputs = torch.reshape(inputs, (inputs.shape[0], 1, 303, 722))\n",
        "                  inputs = inputs.to(device)\n",
        "                  labels = labels.to(device)\n",
        "                  outputs = model(inputs)\n",
        "                  loss = criterion(outputs, labels)\n",
        "                  predictions.append(outputs)\n",
        "                  accuracy.update(outputs, labels)\n",
        "                  _, preds = torch.max(outputs, 1)\n",
        "              except:\n",
        "                  continue\n",
        "              running_loss += loss.item() * inputs.size(0)\n",
        "              running_corrects += torch.sum(preds == labels).detach().cpu().numpy()\n",
        "      test_losses.append(running_loss / len(data_val))\n",
        "      test_accuracies.append(running_corrects/ len(data_val))\n",
        "\n",
        "    plt.figure(figsize=(12, 5))\n",
        "    plt.subplot(1, 2, 1)\n",
        "    plt.plot(range(1, num_epochs+1), test_losses, label='Testing Loss')\n",
        "    plt.xlabel('Epochs')\n",
        "    plt.ylabel('Loss')\n",
        "    plt.legend()\n",
        "\n",
        "    plt.subplot(1, 2, 2)\n",
        "    plt.plot(range(1, num_epochs+1), test_accuracies, label='Testing Accuracy')\n",
        "    plt.xlabel('Epochs')\n",
        "    plt.ylabel('Accuracy')\n",
        "    plt.legend()\n",
        "\n",
        "    plt.show()"
      ]
    },
    {
      "cell_type": "code",
      "execution_count": null,
      "metadata": {
        "colab": {
          "base_uri": "https://localhost:8080/",
          "height": 480
        },
        "id": "uDJLRGimJgnS",
        "outputId": "b2a0e650-edfd-41e2-a499-dde3efb6a324"
      },
      "outputs": [
        {
          "output_type": "display_data",
          "data": {
            "text/plain": [
              "<Figure size 1200x500 with 2 Axes>"
            ],
            "image/png": "[encoded data removed]"
          },
          "metadata": {}
        }
      ],
      "source": [
        "predictions = []\n",
        "evaluate_model(tf_model, val, 10, device)\n",
        "# print(\"Accuracy: \", accuracy)\n",
        "\n",
        "# pred_labels = []\n",
        "# for batch in predictions:\n",
        "#     for prediction in batch:\n",
        "#         x = (prediction == torch.max(prediction)).nonzero(as_tuple=False)[0]\n",
        "#         pred_labels.append(x)\n",
        "# pred_labels = list(map(lambda x: x.cpu().numpy().item(), pred_labels))\n",
        "# print(pred_labels)\n",
        "# print(classes)"
      ]
    },
    {
      "cell_type": "code",
      "execution_count": null,
      "metadata": {
        "colab": {
          "base_uri": "https://localhost:8080/"
        },
        "id": "ttaUEyXeJgnS",
        "outputId": "e1903b68-1752-4319-ae7c-45ab05bb90d0"
      },
      "outputs": [
        {
          "output_type": "stream",
          "name": "stdout",
          "text": [
            "----------------------------------------------------------------\n",
            "        Layer (type)               Output Shape         Param #\n",
            "================================================================\n",
            "            Conv2d-1           [-1, 3, 76, 180]             246\n",
            "       BatchNorm2d-2           [-1, 3, 76, 180]               6\n",
            "              ReLU-3           [-1, 3, 76, 180]               0\n",
            "            Conv2d-4           [-1, 64, 38, 90]           9,408\n",
            "       BatchNorm2d-5           [-1, 64, 38, 90]             128\n",
            "              ReLU-6           [-1, 64, 38, 90]               0\n",
            "         MaxPool2d-7           [-1, 64, 19, 45]               0\n",
            "            Conv2d-8           [-1, 64, 19, 45]          36,864\n",
            "       BatchNorm2d-9           [-1, 64, 19, 45]             128\n",
            "             ReLU-10           [-1, 64, 19, 45]               0\n",
            "           Conv2d-11           [-1, 64, 19, 45]          36,864\n",
            "      BatchNorm2d-12           [-1, 64, 19, 45]             128\n",
            "             ReLU-13           [-1, 64, 19, 45]               0\n",
            "       BasicBlock-14           [-1, 64, 19, 45]               0\n",
            "           Conv2d-15           [-1, 64, 19, 45]          36,864\n",
            "      BatchNorm2d-16           [-1, 64, 19, 45]             128\n",
            "             ReLU-17           [-1, 64, 19, 45]               0\n",
            "           Conv2d-18           [-1, 64, 19, 45]          36,864\n",
            "      BatchNorm2d-19           [-1, 64, 19, 45]             128\n",
            "             ReLU-20           [-1, 64, 19, 45]               0\n",
            "       BasicBlock-21           [-1, 64, 19, 45]               0\n",
            "           Conv2d-22          [-1, 128, 10, 23]          73,728\n",
            "      BatchNorm2d-23          [-1, 128, 10, 23]             256\n",
            "             ReLU-24          [-1, 128, 10, 23]               0\n",
            "           Conv2d-25          [-1, 128, 10, 23]         147,456\n",
            "      BatchNorm2d-26          [-1, 128, 10, 23]             256\n",
            "           Conv2d-27          [-1, 128, 10, 23]           8,192\n",
            "      BatchNorm2d-28          [-1, 128, 10, 23]             256\n",
            "             ReLU-29          [-1, 128, 10, 23]               0\n",
            "       BasicBlock-30          [-1, 128, 10, 23]               0\n",
            "           Conv2d-31          [-1, 128, 10, 23]         147,456\n",
            "      BatchNorm2d-32          [-1, 128, 10, 23]             256\n",
            "             ReLU-33          [-1, 128, 10, 23]               0\n",
            "           Conv2d-34          [-1, 128, 10, 23]         147,456\n",
            "      BatchNorm2d-35          [-1, 128, 10, 23]             256\n",
            "             ReLU-36          [-1, 128, 10, 23]               0\n",
            "       BasicBlock-37          [-1, 128, 10, 23]               0\n",
            "           Conv2d-38           [-1, 256, 5, 12]         294,912\n",
            "      BatchNorm2d-39           [-1, 256, 5, 12]             512\n",
            "             ReLU-40           [-1, 256, 5, 12]               0\n",
            "           Conv2d-41           [-1, 256, 5, 12]         589,824\n",
            "      BatchNorm2d-42           [-1, 256, 5, 12]             512\n",
            "           Conv2d-43           [-1, 256, 5, 12]          32,768\n",
            "      BatchNorm2d-44           [-1, 256, 5, 12]             512\n",
            "             ReLU-45           [-1, 256, 5, 12]               0\n",
            "       BasicBlock-46           [-1, 256, 5, 12]               0\n",
            "           Conv2d-47           [-1, 256, 5, 12]         589,824\n",
            "      BatchNorm2d-48           [-1, 256, 5, 12]             512\n",
            "             ReLU-49           [-1, 256, 5, 12]               0\n",
            "           Conv2d-50           [-1, 256, 5, 12]         589,824\n",
            "      BatchNorm2d-51           [-1, 256, 5, 12]             512\n",
            "             ReLU-52           [-1, 256, 5, 12]               0\n",
            "       BasicBlock-53           [-1, 256, 5, 12]               0\n",
            "           Conv2d-54            [-1, 512, 3, 6]       1,179,648\n",
            "      BatchNorm2d-55            [-1, 512, 3, 6]           1,024\n",
            "             ReLU-56            [-1, 512, 3, 6]               0\n",
            "           Conv2d-57            [-1, 512, 3, 6]       2,359,296\n",
            "      BatchNorm2d-58            [-1, 512, 3, 6]           1,024\n",
            "           Conv2d-59            [-1, 512, 3, 6]         131,072\n",
            "      BatchNorm2d-60            [-1, 512, 3, 6]           1,024\n",
            "             ReLU-61            [-1, 512, 3, 6]               0\n",
            "       BasicBlock-62            [-1, 512, 3, 6]               0\n",
            "           Conv2d-63            [-1, 512, 3, 6]       2,359,296\n",
            "      BatchNorm2d-64            [-1, 512, 3, 6]           1,024\n",
            "             ReLU-65            [-1, 512, 3, 6]               0\n",
            "           Conv2d-66            [-1, 512, 3, 6]       2,359,296\n",
            "      BatchNorm2d-67            [-1, 512, 3, 6]           1,024\n",
            "             ReLU-68            [-1, 512, 3, 6]               0\n",
            "       BasicBlock-69            [-1, 512, 3, 6]               0\n",
            "AdaptiveAvgPool2d-70            [-1, 512, 1, 1]               0\n",
            "           Linear-71                   [-1, 10]           5,130\n",
            "================================================================\n",
            "Total params: 11,181,894\n",
            "Trainable params: 11,181,894\n",
            "Non-trainable params: 0\n",
            "----------------------------------------------------------------\n",
            "Input size (MB): 0.83\n",
            "Forward/backward pass size (MB): 18.81\n",
            "Params size (MB): 42.66\n",
            "Estimated Total Size (MB): 62.30\n",
            "----------------------------------------------------------------\n"
          ]
        }
      ],
      "source": [
        "from torchsummary import summary\n",
        "\n",
        "summary(tf_model, (1, 303, 722))"
      ]
    },
    {
      "cell_type": "markdown",
      "source": [
        "Attempt"
      ],
      "metadata": {
        "id": "3m66hzscYvty"
      }
    },
    {
      "cell_type": "code",
      "source": [
        "# Gemini generated code with google search: \"pytorch evaluate accuracy of model\"\n",
        "!pip install torchmetrics\n",
        "from torchmetrics import Accuracy\n",
        "\n",
        "def evaluate_model(model, data_val, classes, device):\n",
        "    model.eval()\n",
        "    predictions = []\n",
        "    accuracy = Accuracy(task='multiclass', num_classes=classes).to(device)\n",
        "    with torch.no_grad():\n",
        "        for i, data in enumerate(data_val, 0):\n",
        "            # get the inputs; data is a list of [inputs, labels]\n",
        "            try:\n",
        "                inputs, labels = data\n",
        "                inputs = torch.reshape(inputs, (inputs.shape[0], 1, 303, 722))\n",
        "                inputs = inputs.to(device)\n",
        "                labels = labels.to(device)\n",
        "                outputs = model(inputs)\n",
        "                predictions.append(outputs)\n",
        "                accuracy.update(outputs, labels)\n",
        "            except:\n",
        "                continue\n",
        "        return accuracy.compute(), predictions"
      ],
      "metadata": {
        "colab": {
          "base_uri": "https://localhost:8080/"
        },
        "id": "dgON6fPKtsDv",
        "outputId": "11c06fab-3132-4893-bc65-3adb3305d6da"
      },
      "execution_count": null,
      "outputs": [
        {
          "output_type": "stream",
          "name": "stdout",
          "text": [
            "Collecting torchmetrics\n",
            "  Downloading torchmetrics-1.6.0-py3-none-any.whl.metadata (20 kB)\n",
            "Requirement already satisfied: numpy>1.20.0 in /usr/local/lib/python3.10/dist-packages (from torchmetrics) (1.26.4)\n",
            "Requirement already satisfied: packaging>17.1 in /usr/local/lib/python3.10/dist-packages (from torchmetrics) (24.2)\n",
            "Requirement already satisfied: torch>=2.0.0 in /usr/local/lib/python3.10/dist-packages (from torchmetrics) (2.5.1+cu121)\n",
            "Collecting lightning-utilities>=0.8.0 (from torchmetrics)\n",
            "  Downloading lightning_utilities-0.11.9-py3-none-any.whl.metadata (5.2 kB)\n",
            "Requirement already satisfied: setuptools in /usr/local/lib/python3.10/dist-packages (from lightning-utilities>=0.8.0->torchmetrics) (75.1.0)\n",
            "Requirement already satisfied: typing-extensions in /usr/local/lib/python3.10/dist-packages (from lightning-utilities>=0.8.0->torchmetrics) (4.12.2)\n",
            "Requirement already satisfied: filelock in /usr/local/lib/python3.10/dist-packages (from torch>=2.0.0->torchmetrics) (3.16.1)\n",
            "Requirement already satisfied: networkx in /usr/local/lib/python3.10/dist-packages (from torch>=2.0.0->torchmetrics) (3.4.2)\n",
            "Requirement already satisfied: jinja2 in /usr/local/lib/python3.10/dist-packages (from torch>=2.0.0->torchmetrics) (3.1.4)\n",
            "Requirement already satisfied: fsspec in /usr/local/lib/python3.10/dist-packages (from torch>=2.0.0->torchmetrics) (2024.10.0)\n",
            "Requirement already satisfied: sympy==1.13.1 in /usr/local/lib/python3.10/dist-packages (from torch>=2.0.0->torchmetrics) (1.13.1)\n",
            "Requirement already satisfied: mpmath<1.4,>=1.1.0 in /usr/local/lib/python3.10/dist-packages (from sympy==1.13.1->torch>=2.0.0->torchmetrics) (1.3.0)\n",
            "Requirement already satisfied: MarkupSafe>=2.0 in /usr/local/lib/python3.10/dist-packages (from jinja2->torch>=2.0.0->torchmetrics) (3.0.2)\n",
            "Downloading torchmetrics-1.6.0-py3-none-any.whl (926 kB)\n",
            "\u001b[2K   \u001b[90m━━━━━━━━━━━━━━━━━━━━━━━━━━━━━━━━━━━━━━━━\u001b[0m \u001b[32m926.4/926.4 kB\u001b[0m \u001b[31m12.4 MB/s\u001b[0m eta \u001b[36m0:00:00\u001b[0m\n",
            "\u001b[?25hDownloading lightning_utilities-0.11.9-py3-none-any.whl (28 kB)\n",
            "Installing collected packages: lightning-utilities, torchmetrics\n",
            "Successfully installed lightning-utilities-0.11.9 torchmetrics-1.6.0\n"
          ]
        }
      ]
    },
    {
      "cell_type": "code",
      "source": [
        "predictions = []\n",
        "accuracy, predictions = evaluate_model(tf_model, val, 10, device)\n",
        "print(\"Accuracy: \", accuracy)\n",
        "\n",
        "pred_labels = []\n",
        "for batch in predictions:\n",
        "    for prediction in batch:\n",
        "        x = (prediction == torch.max(prediction)).nonzero(as_tuple=False)[0]\n",
        "        pred_labels.append(x)\n",
        "pred_labels = list(map(lambda x: x.cpu().numpy().item(), pred_labels))\n",
        "print(pred_labels)\n",
        "print(classes)"
      ],
      "metadata": {
        "colab": {
          "base_uri": "https://localhost:8080/"
        },
        "id": "Wh5CIWE8tuUL",
        "outputId": "619d5bf0-05c7-454f-81bc-09389bccd409"
      },
      "execution_count": null,
      "outputs": [
        {
          "output_type": "stream",
          "name": "stdout",
          "text": [
            "Accuracy:  tensor(0.8971)\n",
            "[1, 1, 0, 0, 1, 1, 0, 4, 1, 4, 4, 4, 4, 0, 0, 1, 7, 4, 4, 4, 5, 0, 1, 3, 4, 0, 5, 1, 4, 4, 7, 9, 2, 1, 6, 0, 1, 0, 7, 1, 3, 8, 9, 1, 1, 5, 0, 1, 1, 0, 8, 6, 0, 0, 4, 1, 4, 0, 6, 6, 0, 2, 7, 4, 5, 5, 5, 4, 4, 1, 3, 7, 6, 1, 9, 9, 0, 1, 0, 4, 3, 4, 1, 7, 0, 6, 6, 8, 0, 1, 0, 6, 1, 7, 1, 1, 1, 4, 0, 4, 1, 8, 3, 1, 1, 0, 1, 0, 0, 1, 0, 0, 0, 1, 9, 1, 4, 4, 4, 0, 3, 0, 1, 0, 4, 1, 1, 1, 4, 4, 4, 0, 7, 3, 1, 3, 1, 4, 1, 4, 0, 0, 3, 5, 4, 4, 0, 2, 3, 1, 3, 1, 3, 1, 8, 1, 3, 2, 1, 1, 2, 4, 0, 1, 4, 9, 8, 1, 0, 0, 1, 8, 0, 4, 4]\n",
            "['bird', 'cat', 'chicken', 'cow', 'dog', 'donkey', 'frog', 'lion', 'monkey', 'sheep']\n"
          ]
        }
      ]
    },
    {
      "cell_type": "code",
      "source": [
        "device = torch.device('cuda' if torch.cuda.is_available() else 'cpu')\n",
        "\n",
        "tf_model.to(device)\n",
        "tf_model.train()\n",
        "\n",
        "# We need to set the loss function, the optimizer, and the learning rate scheduler\n",
        "criterion = nn.CrossEntropyLoss()\n",
        "# though we're fine tuning, we're updating all parameters\n",
        "optimizer_ft = optim.SGD(tf_model.parameters(), lr=0.001, momentum=0.9)\n",
        "# the scheduler decreases the learning rate by a factor of 0.1 every 7 epochs\n",
        "exp_lr_scheduler = lr_scheduler.StepLR(optimizer_ft, step_size=7, gamma=0.1)\n",
        "\n",
        "device = torch.device('cuda' if torch.cuda.is_available() else 'cpu')"
      ],
      "metadata": {
        "id": "8P_0VwyI5J2T"
      },
      "execution_count": 40,
      "outputs": []
    },
    {
      "cell_type": "code",
      "source": [
        "train_losses = []\n",
        "num_epochs = 25\n",
        "for epoch in range(num_epochs):  # loop over the dataset multiple times\n",
        "\n",
        "    running_loss = 0.0\n",
        "    for i, data in enumerate(train, 0):\n",
        "        # get the inputs; data is a list of [inputs, labels]\n",
        "        inputs, labels = data\n",
        "        inputs = torch.reshape(inputs, (4, 1, 303, 722))\n",
        "        inputs = inputs.to(device)\n",
        "        labels = labels.to(device)\n",
        "\n",
        "        # zero the parameter gradients\n",
        "        optimizer.zero_grad()\n",
        "\n",
        "        # forward + backward + optimize\n",
        "        outputs = tf_model(inputs)\n",
        "        loss = loss_function(outputs, labels)\n",
        "        loss.backward()\n",
        "        optimizer.step()\n",
        "\n",
        "        # print statistics\n",
        "        running_loss += loss.item()\n",
        "\n",
        "        if i % 1000 == 999:    # print every 1000 mini-batches\n",
        "            print('[%d, %5d] loss: %.3f' %\n",
        "                  (epoch + 1, i + 1, running_loss / 1000))\n",
        "            running_loss = 0.0\n",
        "    exp_lr_scheduler.step()\n",
        "    train_losses.append(running_loss/len(train))\n",
        "\n",
        "print('Finished Training')\n",
        "\n",
        "plt.figure(figsize=(12, 5))\n",
        "plt.subplot(1, 2, 1)\n",
        "plt.plot(range(1, num_epochs+1), train_losses, label='Training Loss')\n",
        "plt.xlabel('Epochs')\n",
        "plt.ylabel('Loss')\n",
        "plt.legend()"
      ],
      "metadata": {
        "id": "kQ7T6buQ5sAj",
        "colab": {
          "base_uri": "https://localhost:8080/",
          "height": 501
        },
        "outputId": "5182a298-30da-4f22-8fe8-a56ca06e36b7"
      },
      "execution_count": 41,
      "outputs": [
        {
          "output_type": "stream",
          "name": "stdout",
          "text": [
            "Finished Training\n"
          ]
        },
        {
          "output_type": "execute_result",
          "data": {
            "text/plain": [
              "<matplotlib.legend.Legend at 0x7ba07ed2bc70>"
            ]
          },
          "metadata": {},
          "execution_count": 41
        },
        {
          "output_type": "display_data",
          "data": {
            "text/plain": [
              "<Figure size 1200x500 with 1 Axes>"
            ],
            "image/png": "[encoded data removed]"
          },
          "metadata": {}
        }
      ]
    },
    {
      "cell_type": "code",
      "source": [
        "# Gemini generated code with google search: \"pytorch evaluate accuracy of model\"\n",
        "!pip install torchmetrics\n",
        "from torchmetrics import Accuracy\n",
        "\n",
        "def evaluate_model(model, data_val, classes, device):\n",
        "    model.eval()\n",
        "    predictions = []\n",
        "    accuracy = Accuracy(task='multiclass', num_classes=classes).to(device)\n",
        "    with torch.no_grad():\n",
        "        for i, data in enumerate(data_val, 0):\n",
        "            # get the inputs; data is a list of [inputs, labels]\n",
        "            try:\n",
        "                inputs, labels = data\n",
        "                inputs = torch.reshape(inputs, (inputs.shape[0], 1, 303, 722))\n",
        "                inputs = inputs.to(device)\n",
        "                labels = labels.to(device)\n",
        "                outputs = model(inputs)\n",
        "                predictions.append(outputs)\n",
        "                accuracy.update(outputs, labels)\n",
        "            except:\n",
        "                continue\n",
        "        return accuracy.compute(), predictions"
      ],
      "metadata": {
        "id": "K02XZKNY5__O",
        "colab": {
          "base_uri": "https://localhost:8080/"
        },
        "outputId": "b77a9aa2-569b-425e-d3d2-15211a68ced1"
      },
      "execution_count": 42,
      "outputs": [
        {
          "output_type": "stream",
          "name": "stdout",
          "text": [
            "Requirement already satisfied: torchmetrics in /usr/local/lib/python3.10/dist-packages (1.6.0)\n",
            "Requirement already satisfied: numpy>1.20.0 in /usr/local/lib/python3.10/dist-packages (from torchmetrics) (1.26.4)\n",
            "Requirement already satisfied: packaging>17.1 in /usr/local/lib/python3.10/dist-packages (from torchmetrics) (24.2)\n",
            "Requirement already satisfied: torch>=2.0.0 in /usr/local/lib/python3.10/dist-packages (from torchmetrics) (2.5.1+cu121)\n",
            "Requirement already satisfied: lightning-utilities>=0.8.0 in /usr/local/lib/python3.10/dist-packages (from torchmetrics) (0.11.9)\n",
            "Requirement already satisfied: setuptools in /usr/local/lib/python3.10/dist-packages (from lightning-utilities>=0.8.0->torchmetrics) (75.1.0)\n",
            "Requirement already satisfied: typing-extensions in /usr/local/lib/python3.10/dist-packages (from lightning-utilities>=0.8.0->torchmetrics) (4.12.2)\n",
            "Requirement already satisfied: filelock in /usr/local/lib/python3.10/dist-packages (from torch>=2.0.0->torchmetrics) (3.16.1)\n",
            "Requirement already satisfied: networkx in /usr/local/lib/python3.10/dist-packages (from torch>=2.0.0->torchmetrics) (3.4.2)\n",
            "Requirement already satisfied: jinja2 in /usr/local/lib/python3.10/dist-packages (from torch>=2.0.0->torchmetrics) (3.1.4)\n",
            "Requirement already satisfied: fsspec in /usr/local/lib/python3.10/dist-packages (from torch>=2.0.0->torchmetrics) (2024.10.0)\n",
            "Requirement already satisfied: sympy==1.13.1 in /usr/local/lib/python3.10/dist-packages (from torch>=2.0.0->torchmetrics) (1.13.1)\n",
            "Requirement already satisfied: mpmath<1.4,>=1.1.0 in /usr/local/lib/python3.10/dist-packages (from sympy==1.13.1->torch>=2.0.0->torchmetrics) (1.3.0)\n",
            "Requirement already satisfied: MarkupSafe>=2.0 in /usr/local/lib/python3.10/dist-packages (from jinja2->torch>=2.0.0->torchmetrics) (3.0.2)\n"
          ]
        }
      ]
    },
    {
      "cell_type": "code",
      "source": [
        "predictions = []\n",
        "accuracy, predictions = evaluate_model(tf_model, val, 10, device)\n",
        "print(\"Accuracy: \", accuracy)\n",
        "\n",
        "pred_labels = []\n",
        "for batch in predictions:\n",
        "    for prediction in batch:\n",
        "        x = (prediction == torch.max(prediction)).nonzero(as_tuple=False)[0]\n",
        "        pred_labels.append(x)\n",
        "pred_labels = list(map(lambda x: x.cpu().numpy().item(), pred_labels))\n",
        "print(pred_labels)\n",
        "print(classes)"
      ],
      "metadata": {
        "id": "wbnHxqQn6Atm",
        "colab": {
          "base_uri": "https://localhost:8080/"
        },
        "outputId": "7cd1d127-0ead-4fd7-c074-43b742389a55"
      },
      "execution_count": 43,
      "outputs": [
        {
          "output_type": "stream",
          "name": "stdout",
          "text": [
            "Accuracy:  tensor(0.1886)\n",
            "[4, 4, 4, 9, 4, 9, 0, 0, 4, 4, 4, 0, 4, 0, 4, 0, 4, 2, 2, 4, 4, 4, 2, 2, 2, 4, 4, 4, 2, 5, 4, 2, 1, 2, 5, 1, 2, 2, 5, 4, 4, 4, 4, 4, 4, 4, 4, 4, 5, 4, 1, 0, 4, 0, 9, 2, 4, 2, 4, 4, 2, 0, 9, 9, 4, 4, 2, 4, 0, 4, 0, 4, 0, 2, 2, 9, 5, 4, 1, 9, 2, 4, 2, 4, 4, 2, 4, 2, 0, 4, 4, 4, 2, 4, 4, 4, 4, 2, 2, 2, 4, 4, 2, 4, 2, 9, 5, 5, 2, 2, 2, 4, 4, 1, 4, 2, 4, 4, 0, 4, 0, 5, 4, 4, 4, 4, 4, 5, 4, 4, 4, 2, 4, 2, 1, 2, 2, 2, 2, 0, 2, 4, 2, 4, 4, 2, 2, 4, 4, 5, 4, 4, 4, 0, 5, 2, 4, 9, 2, 4, 2, 2, 2, 4, 2, 1, 9, 2, 0, 4, 4, 0, 4, 9, 0]\n",
            "['bird', 'cat', 'chicken', 'cow', 'dog', 'donkey', 'frog', 'lion', 'monkey', 'sheep']\n"
          ]
        }
      ]
    }
  ],
  "metadata": {
    "kernelspec": {
      "display_name": "Python 3",
      "name": "python3"
    },
    "language_info": {
      "codemirror_mode": {
        "name": "ipython",
        "version": 3
      },
      "file_extension": ".py",
      "mimetype": "text/x-python",
      "name": "python",
      "nbconvert_exporter": "python",
      "pygments_lexer": "ipython3",
      "version": "3.10.12"
    },
    "colab": {
      "provenance": []
    }
  },
  "nbformat": 4,
  "nbformat_minor": 0
}